{
 "cells": [
  {
   "cell_type": "markdown",
   "metadata": {},
   "source": [
    "---\n",
    "<h1 align='center' style=\"color:green\">Computer Vision</h1>\n",
    "\n",
    "\n",
    "---"
   ]
  },
  {
   "cell_type": "markdown",
   "metadata": {},
   "source": [
    "---\n",
    "# **Introduction**\n",
    "---\n",
    "#### Computer vision is among the hottest fields in any industry right now. It is thriving thanks to the rapid advances in technology and research. But it can be a daunting space for newcomers. There are some common challenges data scientists face when transitioning into computer vision, including:\n",
    "\n",
    "* 1. How do we clean image datasets? Images come in different shapes and sizes\n",
    "* 2. The ever-present problem of acquiring data. Should we collect more images before building our computer vision model?\n",
    "* 3. Is learning deep learning compulsory for building computer vision models? Can we not use machine learning techniques?\n",
    "* 4. Can we build a computer vsiion model on our own machine? Not everyone has access to GPUs and TPUs!\n",
    "\n",
    "#### I certainly faced most of these challenges and I’m sure most of you must have as well. These are the right questions to ask as a beginner in computer vision – so good news! You are in the right place.\n",
    "---\n",
    "<img src=\"images/cv-1.png\">\n",
    "---\n",
    "\n",
    "#### But OpenCV comes with a caveat – it can be a little tough to navigate for newcomers. There are a plethora of functions available inside OpenCV, but it can become daunting to:\n",
    "\n",
    "* 1. Understand the wide variety of functions available\n",
    "* 2. Gauge which function to use for your particular problem\n",
    "\n",
    "#### I believe learning how to navigate OpenCV is a must for any computer vision enthusiast. Hence,we detailing the different (common) functions inside OpenCV, their applications, and how you can get started with each one.\n",
    "\n",
    "----\n",
    "## Table of Contents\n",
    "---\n",
    "* 1. What is Computer Vision?\n",
    "* 2. Why use OpenCV for Computer Vision Tasks?\n",
    "* 3. Reading, Writing and Displaying Images\n",
    "* 4. Changing Color Spaces\n",
    "* 5. Resizing Images\n",
    "* 6. Image Rotation\n",
    "* 7. Image Translation\n",
    "* 8. Simple Image Thresholding\n",
    "* 9. Adaptive Thresholding\n",
    "* 10. Image Segmentation (Watershed Algorithm)\n",
    "* 11. Bitwise Operations\n",
    "* 12. Edge Detection\n",
    "* 13. Image Filtering\n",
    "* 14. Image Contours\n",
    "* 15. Scale Invariant Feature Transform (SIFT)\n",
    "* 16. Speeded-Up Robust Features (SURF)\n",
    "* 17. Feature Matching\n",
    "* 18. Face Detection\n",
    "---"
   ]
  },
  {
   "cell_type": "markdown",
   "metadata": {},
   "source": [
    "# **What is Computer Vision?**\n",
    "---\n",
    "\n",
    "#### The ability to see and perceive the world comes naturally to us humans. It’s second nature for us to gather information from our surroundings through the gift of vision and perception.\n",
    "---\n",
    "<img src=\"images/2.jpg\">\n",
    "\n",
    "---\n",
    "#### Take a quick look at the above image. It takes us less than a second to figure out there’s a cat, a dog and a pair of human legs. When it comes to machines, this learning process becomes complicated. The process of parsing through an image and detecting objects involves multiple and complex steps, including feature extraction (edges detection, shapes, etc), feature classification, etc.\n",
    "\n",
    "#### ***Computer Vision is a field of deep learning that enables machines to see, identify and process images like humans.***\n",
    "\n",
    "#### Take a moment to ponder this – which applications or products come to your mind when you think of computer vision? The list is HUGE. We use some of them everyday! Features like unlocking our phones using face recognition, our smartphone cameras, self-driving cars – computer vision is everywhere.\n",
    "---"
   ]
  },
  {
   "cell_type": "markdown",
   "metadata": {},
   "source": [
    "## Why use OpenCV for Computer Vision Tasks?\n",
    "---\n",
    "#### OpenCV, or Open Source Computer Vision library, started out as a research project at Intel. It’s currently the largest computer vision library in terms of the sheer number of functions it holds.\n",
    "\n",
    "#### OpenCV contains implementations of more than 2500 algorithms! It is freely available for commercial as well as academic purposes. And the joy doesn’t end there! The library has interfaces for multiple languages, including Python, Java, and C++.\n",
    "\n",
    "#### The first OpenCV version, 1.0, was released in 2006 and the OpenCV community has grown leaps and bounds since then.\n",
    "\n",
    "#### Now, the plethora of functions OpenCV offers! We will be looking at OpenCV from the perspective of a data scientist and learning about some functions that make the task of developing and understanding computer vision models easier.\n",
    "---"
   ]
  },
  {
   "cell_type": "code",
   "execution_count": null,
   "metadata": {},
   "outputs": [],
   "source": []
  }
 ],
 "metadata": {
  "kernelspec": {
   "display_name": "Python 3",
   "language": "python",
   "name": "python3"
  },
  "language_info": {
   "codemirror_mode": {
    "name": "ipython",
    "version": 3
   },
   "file_extension": ".py",
   "mimetype": "text/x-python",
   "name": "python",
   "nbconvert_exporter": "python",
   "pygments_lexer": "ipython3",
   "version": "3.6.8"
  }
 },
 "nbformat": 4,
 "nbformat_minor": 4
}
